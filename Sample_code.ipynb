{
  "nbformat": 4,
  "nbformat_minor": 0,
  "metadata": {
    "colab": {
      "provenance": []
    },
    "kernelspec": {
      "name": "python3",
      "display_name": "Python 3"
    },
    "language_info": {
      "name": "python"
    }
  },
  "cells": [
    {
      "cell_type": "code",
      "execution_count": null,
      "metadata": {
        "id": "-Hs6X5j9BInz"
      },
      "outputs": [],
      "source": [
        "from google.colab import drive\n",
        "drive.mount('/content/drive')"
      ]
    },
    {
      "cell_type": "code",
      "source": [
        "BEST_MODEL_PATH = '/content/drive/MyDrive/MyModel/model_best.pt'\n",
        "DRIVE_CHP_PATH = '/content/drive/MyDrive/MyModel/model_last_checkpoint.pth'"
      ],
      "metadata": {
        "id": "_5SzfpbhECG2"
      },
      "execution_count": null,
      "outputs": []
    },
    {
      "cell_type": "code",
      "source": [
        "import torch\n",
        "from torch.optim.lr_scheduler import ReduceLROnPlateau\n",
        "\n",
        "class Trainer():\n",
        "\n",
        "    def __init__ (self, config, dataset, checkpoint=None):\n",
        "\n",
        "        # ...\n",
        "        # ...\n",
        "        # ...\n",
        "\n",
        "        if checkpoint == None:\n",
        "            self.model = self.get_model(self.device)\n",
        "            self.optimizer = torch.optim.AdamW(self.model.parameters(), config.lr, weight_decay = config.wd)\n",
        "            self.scheduler = ReduceLROnPlateau(self.optimizer, mode='min', factor=0.6, patience= 3, min_lr=1e-6, threshold=0.01)\n",
        "            self.epoch, self.minloss= 0, float('inf')\n",
        "\n",
        "        else:\n",
        "            self.model, self.optimizer, self.scheduler, self.epoch, self.minloss = self.utils.load_checkpoint(checkpoint)\n",
        "            print('\\rCheckpoint loaded successfully'); print('-' * 50)\n",
        "\n",
        "        # ...\n",
        "        # ...\n",
        "        # ...\n",
        "\n",
        "\n",
        "    def save_checkpoint(self, model, optimizer, scheduler, epoch, minloss, save_path):\n",
        "        checkpoint = {\n",
        "            'minloss': minloss,\n",
        "            'epoch': epoch,\n",
        "            'model': model,\n",
        "            'optimizer': optimizer,\n",
        "            'scheduler': scheduler}\n",
        "        torch.save(checkpoint, save_path)\n",
        "\n",
        "\n",
        "\n",
        "    def save_model(self, model, path, epoch):\n",
        "        torch.save(model.state_dict(), path)\n",
        "        self.training_result['Best Epoch'] = epoch\n",
        "\n",
        "\n",
        "\n",
        "    def train (self, model, dataloader, optimizer, epoch, device):\n",
        "        # ...\n",
        "        # ...\n",
        "\n",
        "        return true\n",
        "\n",
        "\n",
        "\n",
        "    def evaluate (self, model, dataloader, device):\n",
        "        # ...\n",
        "        # ...\n",
        "\n",
        "        return true\n",
        "\n",
        "\n",
        "\n",
        "    def train_and_evaluate(self, n_epochs):\n",
        "\n",
        "        loss_list =  []\n",
        "        for epoch in range(self.epoch, n_epochs):\n",
        "\n",
        "            # ...\n",
        "            # ...\n",
        "\n",
        "            train_loss = self.train(self.model, self.train_dataloader, self.optimizer, epoch, self.device)\n",
        "            test_loss = self.evaluate(self.model, self.test_dataloader, self.device)\n",
        "\n",
        "            # Save the best model based on minimum loss\n",
        "            if test_loss < self.minloss:\n",
        "                self.minloss = test_loss\n",
        "                self.save_model(self.model, BEST_MODEL_PATH, epoch)\n",
        "\n",
        "            # ...\n",
        "            # ...\n",
        "\n",
        "            self.save_checkpoint(self.model, self.optimizer, self.scheduler, epoch+1, self.minloss, DRIVE_CHP_PATH )\n",
        "\n",
        "            # ...\n",
        "            # ...\n"
      ],
      "metadata": {
        "id": "yIskNVfqBPlI"
      },
      "execution_count": 1,
      "outputs": []
    },
    {
      "cell_type": "code",
      "source": [
        "import torch\n",
        "import os\n",
        "\n",
        "def load_checkpoint(checkpoint):\n",
        "    minloss = checkpoint['minloss']\n",
        "    epoch = checkpoint['epoch']\n",
        "    model = checkpoint['model']\n",
        "    optimizer = checkpoint['optimizer']\n",
        "    scheduler = checkpoint['scheduler']\n",
        "    return model, optimizer, scheduler, epoch, minloss\n",
        "\n",
        "\n",
        "if __name__ == '__main__':\n",
        "\n",
        "    # ...\n",
        "    # ...\n",
        "\n",
        "    # Load fine-tuning checkpoint\n",
        "    path = DRIVE_CHP_PATH\n",
        "    checkpoint = torch.load(path) if os.path.isfile(path) else None\n",
        "\n",
        "    # Initialize trainer\n",
        "    trainer = Trainer(config, {'train_data':train_data, 'test_data':test_data}, checkpoint)\n",
        "\n",
        "    # Train and evaluate the model\n",
        "    trainer.train_and_evaluate(50)\n"
      ],
      "metadata": {
        "id": "d3sy4qvGDu0z"
      },
      "execution_count": null,
      "outputs": []
    }
  ]
}
